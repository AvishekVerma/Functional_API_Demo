{
  "nbformat": 4,
  "nbformat_minor": 0,
  "metadata": {
    "colab": {
      "name": "Functional_API.ipynb",
      "provenance": []
    },
    "kernelspec": {
      "name": "python3",
      "display_name": "Python 3"
    },
    "language_info": {
      "name": "python"
    }
  },
  "cells": [
    {
      "cell_type": "markdown",
      "metadata": {
        "id": "jcHuO-IPMncV"
      },
      "source": [
        "###\t\t\t**Module 12**\n",
        "Use Functional API to build a model on MNIST Dataset from keras"
      ]
    },
    {
      "cell_type": "code",
      "metadata": {
        "id": "6eFdwhH1x9-u"
      },
      "source": [
        "# import libraries\n",
        "import numpy as np\n",
        "import tensorflow as tf\n",
        "from tensorflow.keras.layers import Dense, Dropout, Input\n",
        "from tensorflow.keras.layers import Conv2D, MaxPooling2D, Flatten\n",
        "from tensorflow.keras.models import Model\n",
        "from tensorflow.keras.datasets import mnist\n",
        "from tensorflow.keras.utils import to_categorical"
      ],
      "execution_count": 1,
      "outputs": []
    },
    {
      "cell_type": "code",
      "metadata": {
        "colab": {
          "base_uri": "https://localhost:8080/"
        },
        "id": "ll1APjagyEXF",
        "outputId": "cda8c015-1d96-42e4-faf4-b83f6ad915f6"
      },
      "source": [
        "# load data\n",
        "(x_train, y_train), (x_test, y_test) = mnist.load_data()\n",
        "\n",
        "# convert sparse label to categorical values\n",
        "num_labels = len(np.unique(y_train))\n",
        "y_train = to_categorical(y_train)\n",
        "y_test = to_categorical(y_test)"
      ],
      "execution_count": 2,
      "outputs": [
        {
          "output_type": "stream",
          "text": [
            "Downloading data from https://storage.googleapis.com/tensorflow/tf-keras-datasets/mnist.npz\n",
            "11493376/11490434 [==============================] - 0s 0us/step\n",
            "11501568/11490434 [==============================] - 0s 0us/step\n"
          ],
          "name": "stdout"
        }
      ]
    },
    {
      "cell_type": "code",
      "metadata": {
        "id": "bcCWgRp4NhdR"
      },
      "source": [
        "# load data\n",
        "(x_train, y_train), (x_test, y_test) = mnist.load_data()\n",
        "\n",
        "# convert sparse label to categorical values\n",
        "num_labels = len(np.unique(y_train))\n",
        "y_train = to_categorical(y_train)\n",
        "y_test = to_categorical(y_test)"
      ],
      "execution_count": 3,
      "outputs": []
    },
    {
      "cell_type": "code",
      "metadata": {
        "id": "ALQsHylkNhaD"
      },
      "source": [
        "# preprocess the input images\n",
        "image_size = x_train.shape[1]\n",
        "x_train = np.reshape(x_train,[-1, image_size, image_size, 1])\n",
        "x_test = np.reshape(x_test,[-1, image_size, image_size, 1])\n",
        "x_train = x_train.astype('float32') / 255\n",
        "x_test = x_test.astype('float32') / 255"
      ],
      "execution_count": 4,
      "outputs": []
    },
    {
      "cell_type": "code",
      "metadata": {
        "id": "ihN4q8KUNhXo"
      },
      "source": [
        "# parameters for the network\n",
        "input_shape = (image_size, image_size, 1)\n",
        "batch_size = 128\n",
        "kernel_size = 3\n",
        "filters = 64\n",
        "dropout = 0.3"
      ],
      "execution_count": 5,
      "outputs": []
    },
    {
      "cell_type": "code",
      "metadata": {
        "id": "-f1Q9hrMNhTr"
      },
      "source": [
        "# utiliaing functional API to build cnn layers\n",
        "inputs = Input(shape=input_shape)\n",
        "y = Conv2D(filters=filters,kernel_size=kernel_size,activation='relu')(inputs)\n",
        "y = MaxPooling2D()(y)\n",
        "y = Conv2D(filters=filters,kernel_size=kernel_size,activation='relu')(y)\n",
        "y = MaxPooling2D()(y)\n",
        "y = Conv2D(filters=filters,kernel_size=kernel_size,activation='relu')(y)\n",
        "# convert image to vector \n",
        "y = Flatten()(y)\n",
        "# dropout regularization\n",
        "y = Dropout(dropout)(y)\n",
        "outputs = Dense(num_labels, activation='softmax')(y)\n",
        "# model building by supplying inputs/outputs\n",
        "model = Model(inputs=inputs, outputs=outputs)"
      ],
      "execution_count": 6,
      "outputs": []
    },
    {
      "cell_type": "code",
      "metadata": {
        "colab": {
          "base_uri": "https://localhost:8080/"
        },
        "id": "TvgS96_6NhRd",
        "outputId": "c2dd83a5-6be2-4f46-fb29-951eb590f1c8"
      },
      "source": [
        "#compiling and fitting model\n",
        "model.compile(loss='categorical_crossentropy',optimizer='adam',metrics=['accuracy'])\n",
        "model.fit(x_train,y_train,validation_data=(x_test, y_test),epochs=20,batch_size=batch_size)"
      ],
      "execution_count": 7,
      "outputs": [
        {
          "output_type": "stream",
          "text": [
            "Epoch 1/20\n",
            "469/469 [==============================] - 55s 116ms/step - loss: 0.2563 - accuracy: 0.9214 - val_loss: 0.0525 - val_accuracy: 0.9843\n",
            "Epoch 2/20\n",
            "469/469 [==============================] - 54s 115ms/step - loss: 0.0683 - accuracy: 0.9788 - val_loss: 0.0367 - val_accuracy: 0.9879\n",
            "Epoch 3/20\n",
            "469/469 [==============================] - 54s 115ms/step - loss: 0.0490 - accuracy: 0.9849 - val_loss: 0.0266 - val_accuracy: 0.9909\n",
            "Epoch 4/20\n",
            "469/469 [==============================] - 54s 115ms/step - loss: 0.0393 - accuracy: 0.9873 - val_loss: 0.0377 - val_accuracy: 0.9882\n",
            "Epoch 5/20\n",
            "469/469 [==============================] - 55s 116ms/step - loss: 0.0338 - accuracy: 0.9890 - val_loss: 0.0256 - val_accuracy: 0.9911\n",
            "Epoch 6/20\n",
            "469/469 [==============================] - 54s 115ms/step - loss: 0.0300 - accuracy: 0.9902 - val_loss: 0.0265 - val_accuracy: 0.9916\n",
            "Epoch 7/20\n",
            "469/469 [==============================] - 54s 115ms/step - loss: 0.0260 - accuracy: 0.9916 - val_loss: 0.0231 - val_accuracy: 0.9922\n",
            "Epoch 8/20\n",
            "469/469 [==============================] - 54s 115ms/step - loss: 0.0227 - accuracy: 0.9927 - val_loss: 0.0273 - val_accuracy: 0.9907\n",
            "Epoch 9/20\n",
            "469/469 [==============================] - 54s 115ms/step - loss: 0.0203 - accuracy: 0.9935 - val_loss: 0.0213 - val_accuracy: 0.9931\n",
            "Epoch 10/20\n",
            "469/469 [==============================] - 55s 117ms/step - loss: 0.0189 - accuracy: 0.9936 - val_loss: 0.0226 - val_accuracy: 0.9930\n",
            "Epoch 11/20\n",
            "469/469 [==============================] - 54s 116ms/step - loss: 0.0166 - accuracy: 0.9947 - val_loss: 0.0215 - val_accuracy: 0.9935\n",
            "Epoch 12/20\n",
            "469/469 [==============================] - 54s 115ms/step - loss: 0.0154 - accuracy: 0.9947 - val_loss: 0.0245 - val_accuracy: 0.9923\n",
            "Epoch 13/20\n",
            "469/469 [==============================] - 54s 114ms/step - loss: 0.0142 - accuracy: 0.9954 - val_loss: 0.0213 - val_accuracy: 0.9936\n",
            "Epoch 14/20\n",
            "469/469 [==============================] - 54s 115ms/step - loss: 0.0142 - accuracy: 0.9955 - val_loss: 0.0229 - val_accuracy: 0.9938\n",
            "Epoch 15/20\n",
            "469/469 [==============================] - 54s 115ms/step - loss: 0.0121 - accuracy: 0.9960 - val_loss: 0.0238 - val_accuracy: 0.9929\n",
            "Epoch 16/20\n",
            "469/469 [==============================] - 54s 114ms/step - loss: 0.0110 - accuracy: 0.9961 - val_loss: 0.0235 - val_accuracy: 0.9932\n",
            "Epoch 17/20\n",
            "469/469 [==============================] - 53s 114ms/step - loss: 0.0092 - accuracy: 0.9970 - val_loss: 0.0256 - val_accuracy: 0.9931\n",
            "Epoch 18/20\n",
            "469/469 [==============================] - 53s 114ms/step - loss: 0.0103 - accuracy: 0.9963 - val_loss: 0.0284 - val_accuracy: 0.9927\n",
            "Epoch 19/20\n",
            "469/469 [==============================] - 55s 116ms/step - loss: 0.0089 - accuracy: 0.9968 - val_loss: 0.0249 - val_accuracy: 0.9936\n",
            "Epoch 20/20\n",
            "469/469 [==============================] - 54s 115ms/step - loss: 0.0092 - accuracy: 0.9968 - val_loss: 0.0273 - val_accuracy: 0.9928\n"
          ],
          "name": "stdout"
        },
        {
          "output_type": "execute_result",
          "data": {
            "text/plain": [
              "<keras.callbacks.History at 0x7f5eea06a3d0>"
            ]
          },
          "metadata": {},
          "execution_count": 7
        }
      ]
    },
    {
      "cell_type": "code",
      "metadata": {
        "colab": {
          "base_uri": "https://localhost:8080/"
        },
        "id": "XkOz6Q6TNhNS",
        "outputId": "c22ab32a-7126-40d6-c35a-c1cfcf0f19b6"
      },
      "source": [
        "# accuracy evaluation\n",
        "score = model.evaluate(x_test, y_test,batch_size=batch_size,verbose=0)\n",
        "print(\"Test accuracy: %.1f%%\" % (100.0 * score[1]))"
      ],
      "execution_count": 8,
      "outputs": [
        {
          "output_type": "stream",
          "text": [
            "Test accuracy: 99.3%\n"
          ],
          "name": "stdout"
        }
      ]
    }
  ]
}